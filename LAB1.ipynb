{
 "cells": [
  {
   "cell_type": "markdown",
   "metadata": {},
   "source": [
    "# 1.\tWrite a small program in Python to print your CV."
   ]
  },
  {
   "cell_type": "code",
   "execution_count": 1,
   "metadata": {
    "collapsed": false
   },
   "outputs": [
    {
     "name": "stdout",
     "output_type": "stream",
     "text": [
      "*******************************************\n",
      "\n",
      "Name:\t\t\t Rashid Rahim\n",
      "CGPA:\t\t\t 3.28\n",
      "Qualification:\t\t Bs-Cs\n",
      "\n",
      "*******************************************\n"
     ]
    }
   ],
   "source": [
    "print(\"*******************************************\\n\")\n",
    "print(\"Name:\\t\\t\\t Rashid Rahim\")\n",
    "print(\"CGPA:\\t\\t\\t 3.28\")\n",
    "print(\"Qualification:\\t\\t Bs-Cs\\n\")\n",
    "print(\"*******************************************\")"
   ]
  },
  {
   "cell_type": "markdown",
   "metadata": {},
   "source": [
    "# 2.\tWrite a program that takes the month (1…12) as input. Print whether the season is summer, winter, spring or autumn depending upon the input month."
   ]
  },
  {
   "cell_type": "code",
   "execution_count": 6,
   "metadata": {
    "collapsed": false
   },
   "outputs": [
    {
     "name": "stdout",
     "output_type": "stream",
     "text": [
      "Enter a Month...9\n",
      "Summer\n"
     ]
    }
   ],
   "source": [
    "m= int(input(\"Enter a Month...\"))\n",
    "if(m>=1 and m<=3):\n",
    "    print(\"Autumn\")\n",
    "elif(m>=4 and m<=5):\n",
    "    print(\"Spring\")\n",
    "elif(m>=6 and m<=9):\n",
    "    print(\"Summer\")\n",
    "elif(m>=10 and m<=12):\n",
    "    print(\"Winter\")\n",
    "else:\n",
    "    print(\"Wrong Input!\")"
   ]
  },
  {
   "cell_type": "markdown",
   "metadata": {},
   "source": [
    "\n",
    "# 3.\tTo determine whether a year is a leap year, follow these steps:\n",
    "1.\tIf the year is evenly divisible by 4, go to step 2. Otherwise, go to step 5.\n",
    "2.\tIf the year is evenly divisible by 100, go to step 3. Otherwise, go to step 4.\n",
    "3.\tIf the year is evenly divisible by 400, go to step 4. Otherwise, go to step 5.\n",
    "4.\tThe year is a leap year (it has 366 days).\n",
    "5.\tThe year is not a leap year (it has 365 days).\n",
    "\n",
    "Write a program to input an year as integer. Using if…else, determines whether the input is a leap year or not.\n"
   ]
  },
  {
   "cell_type": "code",
   "execution_count": 8,
   "metadata": {
    "collapsed": false
   },
   "outputs": [
    {
     "name": "stdout",
     "output_type": "stream",
     "text": [
      "Enter any Year.... 2014\n",
      "This is not Leap Year\n"
     ]
    }
   ],
   "source": [
    "ly = int(input(\"Enter any Year.... \"))\n",
    "if(ly%4==0):\n",
    "    if(ly%100==0):\n",
    "        if(ly%400==0):\n",
    "            print(\"This is Leap Year\")\n",
    "        else:\n",
    "            print(\"This is not Leap Year\")\n",
    "    else:\n",
    "        print(\"This is Leap Year\")\n",
    "else:\n",
    "    print(\"This is not Leap Year\")"
   ]
  },
  {
   "cell_type": "markdown",
   "metadata": {},
   "source": [
    "# 4.\tWrite a program that takes a line as input and finds the number of letters and digits in the input"
   ]
  },
  {
   "cell_type": "code",
   "execution_count": 10,
   "metadata": {
    "collapsed": false
   },
   "outputs": [
    {
     "name": "stdout",
     "output_type": "stream",
     "text": [
      "Enter any String:Ayaz Qureshi 9910\n",
      "Number of Characters:  11\n",
      "Number of Digits:  4\n"
     ]
    }
   ],
   "source": [
    "line = input(\"Enter any String...\")\n",
    "alpha = 0\n",
    "number = 0\n",
    "for x in line:\n",
    "    if(x.isalpha()):\n",
    "        alpha +=1 \n",
    "    elif(x.isnumeric()):\n",
    "        number +=1\n",
    "print(\"Number of Characters: \",alpha)\n",
    "print(\"Number of Digits: \",number)\n"
   ]
  },
  {
   "cell_type": "markdown",
   "metadata": {},
   "source": [
    "# 5.\tWrite a program that takes a sentence as input. Compute the frequency of each words and prints them. "
   ]
  },
  {
   "cell_type": "code",
   "execution_count": 16,
   "metadata": {
    "collapsed": false
   },
   "outputs": [
    {
     "name": "stdout",
     "output_type": "stream",
     "text": [
      "Enter any String...This is Digital Image Processing Lab Class. And I'm Learning about Image in Python\n",
      "List:\n",
      "['This', 'is', 'Digital', 'Image', 'Processing', 'Lab', 'Class.', 'And', \"I'm\", 'Learning', 'about', 'Image', 'in', 'Python']\n",
      "\n",
      "Frequencies:\n",
      "[1, 1, 1, 2, 1, 1, 1, 1, 1, 1, 1, 2, 1, 1]\n",
      "\n"
     ]
    }
   ],
   "source": [
    "line2 = input(\"Enter any String...\")\n",
    "listOfWord = []\n",
    "listOfWord = line2.split()\n",
    "frequencyOfWord = []\n",
    "\n",
    "for w in listOfWord:\n",
    "    frequencyOfWord.append(listOfWord.count(w))\n",
    "print(\"List:\\n\" + str(listOfWord) + \"\\n\")\n",
    "print(\"Frequencies:\\n\" + str(frequencyOfWord) + \"\\n\")"
   ]
  },
  {
   "cell_type": "markdown",
   "metadata": {},
   "source": [
    "# 6. Write a Program to print Numbers 1-100. "
   ]
  },
  {
   "cell_type": "code",
   "execution_count": 41,
   "metadata": {
    "collapsed": false
   },
   "outputs": [
    {
     "name": "stdout",
     "output_type": "stream",
     "text": [
      "0\n",
      "2\n",
      "4\n",
      "6\n",
      "8\n",
      "10\n",
      "12\n",
      "14\n",
      "16\n",
      "18\n",
      "20\n",
      "22\n",
      "24\n",
      "26\n",
      "28\n",
      "30\n",
      "32\n",
      "34\n",
      "36\n",
      "38\n",
      "40\n",
      "42\n",
      "44\n",
      "46\n",
      "48\n",
      "50\n",
      "52\n",
      "54\n",
      "56\n",
      "58\n",
      "60\n",
      "62\n",
      "64\n",
      "66\n",
      "68\n",
      "70\n",
      "72\n",
      "74\n",
      "76\n",
      "78\n",
      "80\n",
      "82\n",
      "84\n",
      "86\n",
      "88\n",
      "90\n",
      "92\n",
      "94\n",
      "96\n",
      "98\n",
      "100\n"
     ]
    }
   ],
   "source": [
    "for x in range(0,101,2):\n",
    "    print(x)"
   ]
  },
  {
   "cell_type": "markdown",
   "metadata": {},
   "source": [
    "# 7.Write a program to print Number 100-1"
   ]
  },
  {
   "cell_type": "code",
   "execution_count": 44,
   "metadata": {
    "collapsed": false
   },
   "outputs": [
    {
     "name": "stdout",
     "output_type": "stream",
     "text": [
      "100\n",
      "99\n",
      "98\n",
      "97\n",
      "96\n",
      "95\n",
      "94\n",
      "93\n",
      "92\n",
      "91\n",
      "90\n",
      "89\n",
      "88\n",
      "87\n",
      "86\n",
      "85\n",
      "84\n",
      "83\n",
      "82\n",
      "81\n",
      "80\n",
      "79\n",
      "78\n",
      "77\n",
      "76\n",
      "75\n",
      "74\n",
      "73\n",
      "72\n",
      "71\n",
      "70\n",
      "69\n",
      "68\n",
      "67\n",
      "66\n",
      "65\n",
      "64\n",
      "63\n",
      "62\n",
      "61\n",
      "60\n",
      "59\n",
      "58\n",
      "57\n",
      "56\n",
      "55\n",
      "54\n",
      "53\n",
      "52\n",
      "51\n",
      "50\n",
      "49\n",
      "48\n",
      "47\n",
      "46\n",
      "45\n",
      "44\n",
      "43\n",
      "42\n",
      "41\n",
      "40\n",
      "39\n",
      "38\n",
      "37\n",
      "36\n",
      "35\n",
      "34\n",
      "33\n",
      "32\n",
      "31\n",
      "30\n",
      "29\n",
      "28\n",
      "27\n",
      "26\n",
      "25\n",
      "24\n",
      "23\n",
      "22\n",
      "21\n",
      "20\n",
      "19\n",
      "18\n",
      "17\n",
      "16\n",
      "15\n",
      "14\n",
      "13\n",
      "12\n",
      "11\n",
      "10\n",
      "9\n",
      "8\n",
      "7\n",
      "6\n",
      "5\n",
      "4\n",
      "3\n",
      "2\n",
      "1\n"
     ]
    }
   ],
   "source": [
    "for x in range(100,0,-1):\n",
    "    print(x)"
   ]
  },
  {
   "cell_type": "code",
   "execution_count": null,
   "metadata": {
    "collapsed": true
   },
   "outputs": [],
   "source": []
  }
 ],
 "metadata": {
  "anaconda-cloud": {},
  "kernelspec": {
   "display_name": "Python [Root]",
   "language": "python",
   "name": "Python [Root]"
  },
  "language_info": {
   "codemirror_mode": {
    "name": "ipython",
    "version": 3
   },
   "file_extension": ".py",
   "mimetype": "text/x-python",
   "name": "python",
   "nbconvert_exporter": "python",
   "pygments_lexer": "ipython3",
   "version": "3.5.2"
  }
 },
 "nbformat": 4,
 "nbformat_minor": 0
}
